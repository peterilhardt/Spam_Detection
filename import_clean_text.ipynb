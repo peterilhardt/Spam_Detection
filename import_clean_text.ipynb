{
 "cells": [
  {
   "cell_type": "code",
   "execution_count": 8,
   "metadata": {},
   "outputs": [],
   "source": [
    "import json\n",
    "from pprint import pprint\n",
    "import pandas as pd\n",
    "\n",
    "import text_processing"
   ]
  },
  {
   "cell_type": "code",
   "execution_count": 9,
   "metadata": {},
   "outputs": [],
   "source": [
    "# read in articles\n",
    "with open('data/scraped_articles.json', 'r') as f:\n",
    "    data = json.load(f)"
   ]
  },
  {
   "cell_type": "code",
   "execution_count": 10,
   "metadata": {},
   "outputs": [
    {
     "data": {
      "text/plain": [
       "dict_keys(['newspapers'])"
      ]
     },
     "execution_count": 10,
     "metadata": {},
     "output_type": "execute_result"
    }
   ],
   "source": [
    "# explore the structure of the data\n",
    "data.keys()"
   ]
  },
  {
   "cell_type": "code",
   "execution_count": 11,
   "metadata": {},
   "outputs": [
    {
     "name": "stdout",
     "output_type": "stream",
     "text": [
      "['cnbc_investing', 'cnbc_top_news', 'cnnmoney', 'economist_business', 'economist_science_and_tech', 'entrepreneur_latest', 'entrepreneur_marketing', 'findmarketresearch', 'fivethirtyeight_economics', 'fivethirtyeight_science', 'fox_business_latest_headlines', 'fox_business_opinion', 'heraldanalyst', 'highlandmirror', 'insidertradings', 'journalismday', 'marketwatch', 'marketwatch_newsletters', 'marketwatch_stories', 'nbpostgazette', 'newyorktimes_business', 'newyorktimes_science', 'newyorktimes_technology', 'reportagestuff', 'reuters_money', 'reuters_science', 'satprnews', 'sciencedaily', 'thefinancialanalyst', 'tokenfolks', 'truthfulreporter']\n"
     ]
    }
   ],
   "source": [
    "print(sorted(data['newspapers'].keys()))"
   ]
  },
  {
   "cell_type": "code",
   "execution_count": 12,
   "metadata": {},
   "outputs": [
    {
     "name": "stdout",
     "output_type": "stream",
     "text": [
      "dict_keys(['rss', 'link', 'articles'])\n"
     ]
    }
   ],
   "source": [
    "print(data['newspapers']['cnbc_investing'].keys())"
   ]
  },
  {
   "cell_type": "code",
   "execution_count": 13,
   "metadata": {},
   "outputs": [
    {
     "name": "stdout",
     "output_type": "stream",
     "text": [
      "https://www.cnbc.com/id/15839069/device/rss/rss.html\n",
      "https://www.cnbc.com/investing/\n",
      "dict_keys(['link', 'published', 'title', 'text', 'author'])\n"
     ]
    }
   ],
   "source": [
    "print(data['newspapers']['cnbc_investing']['rss'])\n",
    "print(data['newspapers']['cnbc_investing']['link'])\n",
    "print(data['newspapers']['cnbc_investing']['articles'][0].keys())"
   ]
  },
  {
   "cell_type": "code",
   "execution_count": 14,
   "metadata": {},
   "outputs": [
    {
     "name": "stdout",
     "output_type": "stream",
     "text": [
      "{'author': ['Elizabeth Gurdus',\n",
      "            'Andrew Harrer',\n",
      "            'Bloomberg',\n",
      "            'Getty Images',\n",
      "            'Scott Mlyn'],\n",
      " 'link': 'https://www.cnbc.com/2018/03/23/cramer-remix-the-one-bright-spot-after-a-tough-week.html',\n",
      " 'published': '2018-03-24T00:00:00',\n",
      " 'text': \"CNBC's Jim Cramer welcomed Dropbox's successful initial public \"\n",
      "         'offering on Friday as a reminder that even in a sell-off, good '\n",
      "         'things can still happen.\\n'\n",
      "         '\\n'\n",
      "         'Shares of the cloud-based data storage company closed up over 35 '\n",
      "         'percent after its first day of trading, at $28.48 a share, well '\n",
      "         \"above the company's stated price of $21.\\n\"\n",
      "         '\\n'\n",
      "         '\"If you were paying attention over the course of the session, you '\n",
      "         'know that this was a white-hot deal,\" the \"Mad Money\" host said. '\n",
      "         '\"This is exactly the kind of stock that Wall Street wants right '\n",
      "         'now.\"\\n'\n",
      "         '\\n'\n",
      "         \"Cramer's main point of concern was whether Dropbox would be able to \"\n",
      "         'keep turning its non-paying subscribers into paying customers. To '\n",
      "         'maintain its growth rate, it needs to switch between two million and '\n",
      "         'four million free users into paying customers each year.\\n'\n",
      "         '\\n'\n",
      "         \"But that's less than 1 percent of its 500 million free subscribers, \"\n",
      "         'Cramer noted, adding that the company will now have millions of '\n",
      "         'dollars to invest in and bolster the business.\\n'\n",
      "         '\\n'\n",
      "         '\"Put it all together and I\\'m a big fan of Dropbox the company and '\n",
      "         'its CEO, Drew Houston,\" he said. But for Dropbox the stock, he asked '\n",
      "         'investors to be a little more careful.',\n",
      " 'title': 'Cramer Remix: The one bright spot after a tough week'}\n"
     ]
    }
   ],
   "source": [
    "pprint(data['newspapers']['cnbc_investing']['articles'][0])"
   ]
  },
  {
   "cell_type": "code",
   "execution_count": 15,
   "metadata": {},
   "outputs": [
    {
     "data": {
      "text/plain": [
       "'CNBC\\'s Jim Cramer welcomed Dropbox\\'s successful initial public offering on Friday as a reminder that even in a sell-off, good things can still happen.\\n\\nShares of the cloud-based data storage company closed up over 35 percent after its first day of trading, at $28.48 a share, well above the company\\'s stated price of $21.\\n\\n\"If you were paying attention over the course of the session, you know that this was a white-hot deal,\" the \"Mad Money\" host said. \"This is exactly the kind of stock that Wall Street wants right now.\"\\n\\nCramer\\'s main point of concern was whether Dropbox would be able to keep turning its non-paying subscribers into paying customers. To maintain its growth rate, it needs to switch between two million and four million free users into paying customers each year.\\n\\nBut that\\'s less than 1 percent of its 500 million free subscribers, Cramer noted, adding that the company will now have millions of dollars to invest in and bolster the business.\\n\\n\"Put it all together and I\\'m a big fan of Dropbox the company and its CEO, Drew Houston,\" he said. But for Dropbox the stock, he asked investors to be a little more careful.'"
      ]
     },
     "execution_count": 15,
     "metadata": {},
     "output_type": "execute_result"
    }
   ],
   "source": [
    "data['newspapers']['cnbc_investing']['articles'][0]['text']"
   ]
  },
  {
   "cell_type": "code",
   "execution_count": 16,
   "metadata": {},
   "outputs": [
    {
     "data": {
      "text/plain": [
       "'cnbc jim cramer welcomed dropbox successful initial public offering friday reminder that even sell off  good things can still happen   shares the cloud based data storage company closed over   percent after its first day trading share  well above the company stated price you were paying attention over the course the session  you know that this was white hot deal   the  mad money  host said   this exactly the kind stock that wall street wants right now    cramer main point concern was whether dropbox would able keep turning its non paying subscribers into paying customers maintain its growth rate needs switch between two million and four million free users into paying customers each year   but that less than   percent its   million free subscribers  cramer noted  adding that the company will now have millions dollars invest and bolster the business    put all together and big fan dropbox the company and its ceo  drew houston said  but for dropbox the stock asked investors little more careful'"
      ]
     },
     "execution_count": 16,
     "metadata": {},
     "output_type": "execute_result"
    }
   ],
   "source": [
    "# use 'clean_text' function to clean an article and compare to the original version\n",
    "text_processing.clean_text(data['newspapers']['cnbc_investing']['articles'][0]['text'])"
   ]
  },
  {
   "cell_type": "code",
   "execution_count": 17,
   "metadata": {},
   "outputs": [],
   "source": [
    "# clean all of the articles and store in a list; store the links in a separate list\n",
    "article_text_clean = []\n",
    "article_links = []\n",
    "for src in data['newspapers'].keys():\n",
    "    for article in data['newspapers'][src]['articles']:\n",
    "        article_text_clean.append(text_processing.clean_text(article['text']))\n",
    "        article_links.append(article['link'])"
   ]
  },
  {
   "cell_type": "code",
   "execution_count": 18,
   "metadata": {},
   "outputs": [
    {
     "name": "stdout",
     "output_type": "stream",
     "text": [
      "https://www.nytimes.com/2018/03/24/technology/google-facebook-data-privacy.html?partner=rss&emc=rss\n"
     ]
    },
    {
     "data": {
      "text/plain": [
       "'there are other avenues still  said jascha kaykas wolff  the chief marketing officer mozilla  the nonprofit organization behind the popular firefox browser  including advertisers and large tech platforms collecting vastly less user data and still effectively customizing ads consumers    they are just collecting all the data try find magic growth algorithms  kaykas wolff said online marketers  this past week  mozilla halted its ads facebook  saying the social network default privacy settings allowed access too much data   the greatest likelihood that the internet companies  frightened the tumult  will accept few more rules and work little harder for transparency  and there will hearings capitol hill   the next chapter also set play out not washington but europe  where regulators have already cracked down privacy violations and are examining the role data online advertising   photo  the cambridge analytica case  said vera jourova  the european union commissioner for justice  consumers and gender equality  was not just breach private data   this much more serious  because here witness the threat democracy democratic plurality   she said   although many people had general understanding that free online services used their personal details customize the ads they saw  the latest controversy starkly exposed the machinery   advertisement continue reading the main story  consumers  seemingly benign activities   their likes   could used covertly categorize and influence their behavior  and not just unknown third parties  facebook itself has worked directly with presidential campaigns targeting  describing its services company case study  influencing voters     people are upset that their data may have been used secretly influence   voters   said alessandro acquisti professor information technology and public policy carnegie mellon university your personal information can help sway elections  which affects everyone life and societal well being  maybe privacy does matter after all interviews  zuckerberg and sheryl sandberg  facebook chief operating officer  seemed accept the possibility increased privacy regulation  something that would have been unlikely only few months ago  but some trade group executives also warned that any attempt curb the use consumer data would put the business model the supported internet risk   photo   you undermining fundamental concept advertising  reaching consumers who are interested particular product   said dean  garfield  chief executive the information technology industry council trade group washington whose members include amazon  facebook  google and twitter suspicion facebook and google relatively new feeling the united states has been embedded europe for historical and cultural reasons that date back the nazi gestapo  the soviet occupation eastern europe and the cold war inflection point  when the great wave optimism about tech giving way growing alarm   said heather grabbe  director the open society european policy institute   this the moment when europeans turn the state for protection and answers  and are less likely than americans rely the market sort out imbalances may  the european union instituting comprehensive new privacy law  called the general data protection regulation  the new rules treat personal data proprietary  owned individual  and any use that data must accompanied permission   opting rather than opting out   after receiving request written clear language  not legalese lanie voin spokeswoman for the european commission  said the protection rules will have more teeth than the current   directive  for example company experiencing data breach involving individuals must notify the data protection authority within   hours and would subject fines   million euros   percent its annual revenue   photo january speech brussels  facebook  sandberg said know can just meet the   but need even more   google declined comment   advertisement continue reading the main story  the united states does not have consumer privacy law like the general data protection regulation  but after years pushing for similar legislation  privacy groups said that recent events were giving them new momentum   and they were looking europe for inspiration    with the new european law  regulators for the first time have real enforcement tools   said jeffrey chester  the executive director the center for digital democracy nonprofit group washington now have way hold these companies accountable    but any ambitions for new rules may run into the realities the tech industry   privacy advocates and even some united states regulators have long been concerned about the ability online services track consumers and make inferences about their financial status  health concerns and other intimate details show them behavior based ads  they warned that such microtargeting could unfairly categorize exclude certain people    for instance  the federal trade commission proposed new option for consumers  called not track  two years later  the barack obama administration introduced blueprint for consumer privacy bill rights  intended give americans more control over what personal details companies collected from them and how the data was used   newsletter sign continue reading the main story interested all things tech  the bits newsletter will keep you updated the latest from silicon valley and the technology industry  please verify you not robot clicking the box  invalid email address  please enter  you must select newsletter subscribe  sign you agree receive occasional updates and special offers for the new york times products and services  thank you for subscribing error has occurred  please try again later  view all new york times newsletters   but the not track effort and the privacy bill were both stymied   industry groups successfully argued that collecting personal details posed harm consumers and that efforts hinder data collection would chill innovation  instead  the advertising industry created program allow consumers opt out having their data used for customized ads  although does not allow people entirely opt out having their data collected can shown that the current situation actually market failure and not individual company failure  then there case made for federal regulation  under certain circumstances  said randall rothenberg  chief executive the interactive advertising bureau trade group   the business practices facebook and google were reinforced the fact that privacy flap lasted longer than news cycle two  nor did people flee for other services  that convinced the companies that digital privacy was dead issue   advertisement continue reading the main story the current furor dies down without meaningful change  critics worry that the problems might become even more entrenched  when the tech industry follows its natural impulses becomes even less transparent   that would hamper any long term understanding the relationship between social media and political views urgent question germany  myanmar  sri lanka  the united states and many other places know the real interaction between populism and facebook  you need give much more access researchers  not less   said paul jasper dittrich german research fellow digital economy the jacques delors institute   there another reason silicon valley tends reluctant share information about what doing believes deeply itself that does not even think there need for discussion  the technology world remedy for any problem always more technology facebook and google were merely interested maximizing profits could regulate them   said maciej ceglowski  who runs tech solidarity labor advocacy group   but well intentioned people can break things not easy fix like child running bulldozer  they don have any sense the damage they can'"
      ]
     },
     "execution_count": 18,
     "metadata": {},
     "output_type": "execute_result"
    }
   ],
   "source": [
    "# inspect\n",
    "print(article_links[0])\n",
    "article_text_clean[0]"
   ]
  },
  {
   "cell_type": "code",
   "execution_count": 19,
   "metadata": {},
   "outputs": [
    {
     "data": {
      "text/html": [
       "<div>\n",
       "<style scoped>\n",
       "    .dataframe tbody tr th:only-of-type {\n",
       "        vertical-align: middle;\n",
       "    }\n",
       "\n",
       "    .dataframe tbody tr th {\n",
       "        vertical-align: top;\n",
       "    }\n",
       "\n",
       "    .dataframe thead th {\n",
       "        text-align: right;\n",
       "    }\n",
       "</style>\n",
       "<table border=\"1\" class=\"dataframe\">\n",
       "  <thead>\n",
       "    <tr style=\"text-align: right;\">\n",
       "      <th></th>\n",
       "      <th>text</th>\n",
       "      <th>link</th>\n",
       "    </tr>\n",
       "  </thead>\n",
       "  <tbody>\n",
       "    <tr>\n",
       "      <th>0</th>\n",
       "      <td>there are other avenues still  said jascha kay...</td>\n",
       "      <td>https://www.nytimes.com/2018/03/24/technology/...</td>\n",
       "    </tr>\n",
       "    <tr>\n",
       "      <th>1</th>\n",
       "      <td>and  tran  who his mid   and speaks english wi...</td>\n",
       "      <td>https://www.nytimes.com/2018/03/24/business/we...</td>\n",
       "    </tr>\n",
       "    <tr>\n",
       "      <th>2</th>\n",
       "      <td>that analogy  guo will essentially become the ...</td>\n",
       "      <td>https://www.nytimes.com/2018/03/25/business/ch...</td>\n",
       "    </tr>\n",
       "    <tr>\n",
       "      <th>3</th>\n",
       "      <td>news  williams likely selection was first repo...</td>\n",
       "      <td>https://www.nytimes.com/2018/03/24/business/jo...</td>\n",
       "    </tr>\n",
       "    <tr>\n",
       "      <th>4</th>\n",
       "      <td>what increasingly clear many capitol hill and ...</td>\n",
       "      <td>https://www.nytimes.com/2018/03/24/business/tr...</td>\n",
       "    </tr>\n",
       "  </tbody>\n",
       "</table>\n",
       "</div>"
      ],
      "text/plain": [
       "                                                text  \\\n",
       "0  there are other avenues still  said jascha kay...   \n",
       "1  and  tran  who his mid   and speaks english wi...   \n",
       "2  that analogy  guo will essentially become the ...   \n",
       "3  news  williams likely selection was first repo...   \n",
       "4  what increasingly clear many capitol hill and ...   \n",
       "\n",
       "                                                link  \n",
       "0  https://www.nytimes.com/2018/03/24/technology/...  \n",
       "1  https://www.nytimes.com/2018/03/24/business/we...  \n",
       "2  https://www.nytimes.com/2018/03/25/business/ch...  \n",
       "3  https://www.nytimes.com/2018/03/24/business/jo...  \n",
       "4  https://www.nytimes.com/2018/03/24/business/tr...  "
      ]
     },
     "execution_count": 19,
     "metadata": {},
     "output_type": "execute_result"
    }
   ],
   "source": [
    "# compile in a DataFrame\n",
    "articles = pd.DataFrame(data = {'text': article_text_clean, 'link': article_links})\n",
    "articles.head()"
   ]
  },
  {
   "cell_type": "code",
   "execution_count": 20,
   "metadata": {},
   "outputs": [
    {
     "data": {
      "text/plain": [
       "(631, 2)"
      ]
     },
     "execution_count": 20,
     "metadata": {},
     "output_type": "execute_result"
    }
   ],
   "source": [
    "articles.shape"
   ]
  },
  {
   "cell_type": "code",
   "execution_count": 21,
   "metadata": {},
   "outputs": [],
   "source": [
    "# removed comma from end of last item in data/blacklist.json\n",
    "# load blacklist\n",
    "with open('data/blacklist.json') as f:\n",
    "    blacklist = json.load(f)"
   ]
  },
  {
   "cell_type": "code",
   "execution_count": 22,
   "metadata": {},
   "outputs": [
    {
     "name": "stdout",
     "output_type": "stream",
     "text": [
      "['assetsstock.com', 'chiefobserver.com', 'dailycommercenews.com', 'dailytelescope.com', 'factsweek.com', 'financialportal24.com', 'firstnewshawk.com', 'firstnewsservice.com', 'freenewsman.com', 'heraldanalyst.com', 'ibnservice.com', 'incrediblenews24.com', 'islandpostgazette.com', 'ittechnology24.com', 'journalismday.com', 'marketingcorrect.com', 'marketnewsaccess.com', 'monotonecritic.com', 'nbherard.com', 'nbpostgazette.com', 'newmexicocourierexpress.com', 'newschemicals.com', 'nwctrail.com', 'opinioninvestor.com', 'peopletoday24.com', 'perfectanalyst.com', 'positivenewspaper.com', 'publicistreport.com', 'publicsector24.com', 'reportagestuff.com', 'silverpinyon.com', 'talkdailynews.com', 'talkherald.com', 'theanalystfinancial.com', 'theanalystfinancial.com', 'thefinancialconsulting.com', 'thefuturetechnologies.com', 'thefuturetechnologies.com', 'therealfact24.com', 'thetricountypress.com', 'timegazette.com', 'tokenfolks.com', 'truthfulreporter.com', 'www.findmarketresearch.org', 'www.highlandmirror.com', 'www.insidertradings.org', 'www.ratingsalerts.com', 'www.satprnews.com', 'yourniskayuna24.com']\n"
     ]
    }
   ],
   "source": [
    "print(sorted(blacklist))"
   ]
  },
  {
   "cell_type": "code",
   "execution_count": 23,
   "metadata": {},
   "outputs": [
    {
     "data": {
      "text/html": [
       "<div>\n",
       "<style scoped>\n",
       "    .dataframe tbody tr th:only-of-type {\n",
       "        vertical-align: middle;\n",
       "    }\n",
       "\n",
       "    .dataframe tbody tr th {\n",
       "        vertical-align: top;\n",
       "    }\n",
       "\n",
       "    .dataframe thead th {\n",
       "        text-align: right;\n",
       "    }\n",
       "</style>\n",
       "<table border=\"1\" class=\"dataframe\">\n",
       "  <thead>\n",
       "    <tr style=\"text-align: right;\">\n",
       "      <th></th>\n",
       "      <th>text</th>\n",
       "      <th>link</th>\n",
       "      <th>spam</th>\n",
       "    </tr>\n",
       "  </thead>\n",
       "  <tbody>\n",
       "    <tr>\n",
       "      <th>626</th>\n",
       "      <td>the worldwide  perfume market newly published ...</td>\n",
       "      <td>https://heraldanalyst.com/global-perfume-marke...</td>\n",
       "      <td>True</td>\n",
       "    </tr>\n",
       "    <tr>\n",
       "      <th>627</th>\n",
       "      <td>the worldwide  pecialty printing consumables m...</td>\n",
       "      <td>https://heraldanalyst.com/global-pecialty-prin...</td>\n",
       "      <td>True</td>\n",
       "    </tr>\n",
       "    <tr>\n",
       "      <th>628</th>\n",
       "      <td>the worldwide pipes market newly published res...</td>\n",
       "      <td>https://heraldanalyst.com/global-pe-pipes-mark...</td>\n",
       "      <td>True</td>\n",
       "    </tr>\n",
       "    <tr>\n",
       "      <th>629</th>\n",
       "      <td>the worldwide  patient warming devices market ...</td>\n",
       "      <td>https://heraldanalyst.com/global-patient-warmi...</td>\n",
       "      <td>True</td>\n",
       "    </tr>\n",
       "    <tr>\n",
       "      <th>630</th>\n",
       "      <td>the worldwide  pancreatitis drugs market newly...</td>\n",
       "      <td>https://heraldanalyst.com/global-pancreatitis-...</td>\n",
       "      <td>True</td>\n",
       "    </tr>\n",
       "  </tbody>\n",
       "</table>\n",
       "</div>"
      ],
      "text/plain": [
       "                                                  text  \\\n",
       "626  the worldwide  perfume market newly published ...   \n",
       "627  the worldwide  pecialty printing consumables m...   \n",
       "628  the worldwide pipes market newly published res...   \n",
       "629  the worldwide  patient warming devices market ...   \n",
       "630  the worldwide  pancreatitis drugs market newly...   \n",
       "\n",
       "                                                  link  spam  \n",
       "626  https://heraldanalyst.com/global-perfume-marke...  True  \n",
       "627  https://heraldanalyst.com/global-pecialty-prin...  True  \n",
       "628  https://heraldanalyst.com/global-pe-pipes-mark...  True  \n",
       "629  https://heraldanalyst.com/global-patient-warmi...  True  \n",
       "630  https://heraldanalyst.com/global-pancreatitis-...  True  "
      ]
     },
     "execution_count": 23,
     "metadata": {},
     "output_type": "execute_result"
    }
   ],
   "source": [
    "# create a column 'spam' that tracks whether an article is spam or not (boolean)\n",
    "# if any of the blacklisted sites appear in the article's link, it is identified as spam\n",
    "spam = []\n",
    "for link in articles.link:\n",
    "    spam.append(any(site in link for site in blacklist))\n",
    "articles['spam'] = spam\n",
    "articles.tail()"
   ]
  },
  {
   "cell_type": "code",
   "execution_count": 24,
   "metadata": {},
   "outputs": [],
   "source": [
    "# create document-term matrices with articles as rows and individual words as columns (bag of words)\n",
    "# tracks the frequency of each word in each article\n",
    "# one using Count Vectorizer and one using Term Frequency - Inverse Document Frequency\n",
    "articles_cv = text_processing.doc_term_matrix(articles['text'], vectorizer = 'CV')\n",
    "articles_tfidf = text_processing.doc_term_matrix(articles['text'], vectorizer = 'TFIDF')"
   ]
  },
  {
   "cell_type": "code",
   "execution_count": 25,
   "metadata": {},
   "outputs": [
    {
     "data": {
      "text/html": [
       "<div>\n",
       "<style scoped>\n",
       "    .dataframe tbody tr th:only-of-type {\n",
       "        vertical-align: middle;\n",
       "    }\n",
       "\n",
       "    .dataframe tbody tr th {\n",
       "        vertical-align: top;\n",
       "    }\n",
       "\n",
       "    .dataframe thead th {\n",
       "        text-align: right;\n",
       "    }\n",
       "</style>\n",
       "<table border=\"1\" class=\"dataframe\">\n",
       "  <thead>\n",
       "    <tr style=\"text-align: right;\">\n",
       "      <th></th>\n",
       "      <th>aadr</th>\n",
       "      <th>aapl</th>\n",
       "      <th>aaron</th>\n",
       "      <th>aarp</th>\n",
       "      <th>abacus</th>\n",
       "      <th>abandon</th>\n",
       "      <th>abandoned</th>\n",
       "      <th>abandoning</th>\n",
       "      <th>abandonment</th>\n",
       "      <th>abb</th>\n",
       "      <th>...</th>\n",
       "      <th>zoology</th>\n",
       "      <th>zoomlion</th>\n",
       "      <th>zoos</th>\n",
       "      <th>zscaler</th>\n",
       "      <th>zte</th>\n",
       "      <th>zuck</th>\n",
       "      <th>zuckerberg</th>\n",
       "      <th>zurawik</th>\n",
       "      <th>zwenkau</th>\n",
       "      <th>zynga</th>\n",
       "    </tr>\n",
       "  </thead>\n",
       "  <tbody>\n",
       "    <tr>\n",
       "      <th>0</th>\n",
       "      <td>0.0</td>\n",
       "      <td>0.0</td>\n",
       "      <td>0.0</td>\n",
       "      <td>0.0</td>\n",
       "      <td>0.0</td>\n",
       "      <td>0.0</td>\n",
       "      <td>0.0</td>\n",
       "      <td>0.0</td>\n",
       "      <td>0.0</td>\n",
       "      <td>0.0</td>\n",
       "      <td>...</td>\n",
       "      <td>0.0</td>\n",
       "      <td>0.0</td>\n",
       "      <td>0.0</td>\n",
       "      <td>0.0</td>\n",
       "      <td>0.0</td>\n",
       "      <td>0.0</td>\n",
       "      <td>0.02568</td>\n",
       "      <td>0.0</td>\n",
       "      <td>0.0</td>\n",
       "      <td>0.0</td>\n",
       "    </tr>\n",
       "    <tr>\n",
       "      <th>1</th>\n",
       "      <td>0.0</td>\n",
       "      <td>0.0</td>\n",
       "      <td>0.0</td>\n",
       "      <td>0.0</td>\n",
       "      <td>0.0</td>\n",
       "      <td>0.0</td>\n",
       "      <td>0.0</td>\n",
       "      <td>0.0</td>\n",
       "      <td>0.0</td>\n",
       "      <td>0.0</td>\n",
       "      <td>...</td>\n",
       "      <td>0.0</td>\n",
       "      <td>0.0</td>\n",
       "      <td>0.0</td>\n",
       "      <td>0.0</td>\n",
       "      <td>0.0</td>\n",
       "      <td>0.0</td>\n",
       "      <td>0.00000</td>\n",
       "      <td>0.0</td>\n",
       "      <td>0.0</td>\n",
       "      <td>0.0</td>\n",
       "    </tr>\n",
       "    <tr>\n",
       "      <th>2</th>\n",
       "      <td>0.0</td>\n",
       "      <td>0.0</td>\n",
       "      <td>0.0</td>\n",
       "      <td>0.0</td>\n",
       "      <td>0.0</td>\n",
       "      <td>0.0</td>\n",
       "      <td>0.0</td>\n",
       "      <td>0.0</td>\n",
       "      <td>0.0</td>\n",
       "      <td>0.0</td>\n",
       "      <td>...</td>\n",
       "      <td>0.0</td>\n",
       "      <td>0.0</td>\n",
       "      <td>0.0</td>\n",
       "      <td>0.0</td>\n",
       "      <td>0.0</td>\n",
       "      <td>0.0</td>\n",
       "      <td>0.00000</td>\n",
       "      <td>0.0</td>\n",
       "      <td>0.0</td>\n",
       "      <td>0.0</td>\n",
       "    </tr>\n",
       "    <tr>\n",
       "      <th>3</th>\n",
       "      <td>0.0</td>\n",
       "      <td>0.0</td>\n",
       "      <td>0.0</td>\n",
       "      <td>0.0</td>\n",
       "      <td>0.0</td>\n",
       "      <td>0.0</td>\n",
       "      <td>0.0</td>\n",
       "      <td>0.0</td>\n",
       "      <td>0.0</td>\n",
       "      <td>0.0</td>\n",
       "      <td>...</td>\n",
       "      <td>0.0</td>\n",
       "      <td>0.0</td>\n",
       "      <td>0.0</td>\n",
       "      <td>0.0</td>\n",
       "      <td>0.0</td>\n",
       "      <td>0.0</td>\n",
       "      <td>0.00000</td>\n",
       "      <td>0.0</td>\n",
       "      <td>0.0</td>\n",
       "      <td>0.0</td>\n",
       "    </tr>\n",
       "    <tr>\n",
       "      <th>4</th>\n",
       "      <td>0.0</td>\n",
       "      <td>0.0</td>\n",
       "      <td>0.0</td>\n",
       "      <td>0.0</td>\n",
       "      <td>0.0</td>\n",
       "      <td>0.0</td>\n",
       "      <td>0.0</td>\n",
       "      <td>0.0</td>\n",
       "      <td>0.0</td>\n",
       "      <td>0.0</td>\n",
       "      <td>...</td>\n",
       "      <td>0.0</td>\n",
       "      <td>0.0</td>\n",
       "      <td>0.0</td>\n",
       "      <td>0.0</td>\n",
       "      <td>0.0</td>\n",
       "      <td>0.0</td>\n",
       "      <td>0.00000</td>\n",
       "      <td>0.0</td>\n",
       "      <td>0.0</td>\n",
       "      <td>0.0</td>\n",
       "    </tr>\n",
       "  </tbody>\n",
       "</table>\n",
       "<p>5 rows × 20946 columns</p>\n",
       "</div>"
      ],
      "text/plain": [
       "   aadr  aapl  aaron  aarp  abacus  abandon  abandoned  abandoning  \\\n",
       "0   0.0   0.0    0.0   0.0     0.0      0.0        0.0         0.0   \n",
       "1   0.0   0.0    0.0   0.0     0.0      0.0        0.0         0.0   \n",
       "2   0.0   0.0    0.0   0.0     0.0      0.0        0.0         0.0   \n",
       "3   0.0   0.0    0.0   0.0     0.0      0.0        0.0         0.0   \n",
       "4   0.0   0.0    0.0   0.0     0.0      0.0        0.0         0.0   \n",
       "\n",
       "   abandonment  abb  ...  zoology  zoomlion  zoos  zscaler  zte  zuck  \\\n",
       "0          0.0  0.0  ...      0.0       0.0   0.0      0.0  0.0   0.0   \n",
       "1          0.0  0.0  ...      0.0       0.0   0.0      0.0  0.0   0.0   \n",
       "2          0.0  0.0  ...      0.0       0.0   0.0      0.0  0.0   0.0   \n",
       "3          0.0  0.0  ...      0.0       0.0   0.0      0.0  0.0   0.0   \n",
       "4          0.0  0.0  ...      0.0       0.0   0.0      0.0  0.0   0.0   \n",
       "\n",
       "   zuckerberg  zurawik  zwenkau  zynga  \n",
       "0     0.02568      0.0      0.0    0.0  \n",
       "1     0.00000      0.0      0.0    0.0  \n",
       "2     0.00000      0.0      0.0    0.0  \n",
       "3     0.00000      0.0      0.0    0.0  \n",
       "4     0.00000      0.0      0.0    0.0  \n",
       "\n",
       "[5 rows x 20946 columns]"
      ]
     },
     "execution_count": 25,
     "metadata": {},
     "output_type": "execute_result"
    }
   ],
   "source": [
    "articles_tfidf.head()"
   ]
  },
  {
   "cell_type": "code",
   "execution_count": 26,
   "metadata": {},
   "outputs": [
    {
     "name": "stdout",
     "output_type": "stream",
     "text": [
      "(631, 20946) (631, 20946)\n"
     ]
    }
   ],
   "source": [
    "print(articles_tfidf.shape, articles_cv.shape)"
   ]
  },
  {
   "cell_type": "code",
   "execution_count": 27,
   "metadata": {},
   "outputs": [],
   "source": [
    "# export DataFrames\n",
    "articles.to_pickle('articles_df.pickle')\n",
    "articles_cv.to_pickle('articles_doc_term_CV.pickle')\n",
    "articles_tfidf.to_pickle('articles_doc_term_TFIDF.pickle')"
   ]
  }
 ],
 "metadata": {
  "kernelspec": {
   "display_name": "Python 3",
   "language": "python",
   "name": "python3"
  },
  "language_info": {
   "codemirror_mode": {
    "name": "ipython",
    "version": 3
   },
   "file_extension": ".py",
   "mimetype": "text/x-python",
   "name": "python",
   "nbconvert_exporter": "python",
   "pygments_lexer": "ipython3",
   "version": "3.7.3"
  }
 },
 "nbformat": 4,
 "nbformat_minor": 2
}
